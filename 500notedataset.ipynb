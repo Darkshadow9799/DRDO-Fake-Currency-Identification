{
 "cells": [
  {
   "cell_type": "code",
   "execution_count": null,
   "metadata": {
    "collapsed": true
   },
   "outputs": [],
   "source": [
    "import tables\n",
    "# Resources for PyTables:\n",
    "# https://kastnerkyle.github.io/posts/using-pytables-for-larger-than-ram-data-processing/\n",
    "# http://www.pytables.org/usersguide/libref/homogenous_storage.html#the-earray-class\n",
    "trainingDataPath = \"trainingData.hdf5\"\n",
    "file = tables.open_file(trainingDataPath, mode='w')\n",
    "filters = tables.Filters(complevel=5, complib='blosc')\n",
    "images = file.create_earray(file.root, 'images',\n",
    "                                      tables.Atom.from_dtype(np.dtype(np.float32)),\n",
    "                                      shape=(0, 3, 224, 224),# 0 is the extendable dimension\n",
    "                                      filters=filters,\n",
    "                                      expectedrows= 7020)\n",
    "labels = file.create_earray(file.root, 'labels',\n",
    "                                          tables.Atom.from_dtype(np.dtype(np.int32)),\n",
    "                                          shape=(0,),\n",
    "                                          filters=filters,\n",
    "                                          expectedrows= 7020)"
   ]
  },
  {
   "cell_type": "code",
   "execution_count": null,
   "metadata": {
    "collapsed": true
   },
   "outputs": [],
   "source": [
    "import cPickle\n",
    "d = cPickle.load(open('vgg16_2.pkl'))"
   ]
  },
  {
   "cell_type": "code",
   "execution_count": null,
   "metadata": {
    "collapsed": true
   },
   "outputs": [],
   "source": [
    "import os\n",
    "import numpy as np\n",
    "import cv2\n",
    "IMAGE_MEAN = d['mean value'][:, np.newaxis, np.newaxis]\n",
    "\n",
    "# this will be the function used to resize and grayscale the the raw input image\n",
    "def resize(img):\n",
    "    img = cv2.resize(img, (224, 224), interpolation = cv2.INTER_AREA)\n",
    "    return img\n",
    "\n",
    "def perCentreMean(img):\n",
    "    img = np.swapaxes(np.swapaxes(img, 1, 2), 0, 1)\n",
    "    img = img - IMAGE_MEAN\n",
    "    return img\n",
    "\n",
    "# for efficient memory storage :\n",
    "# since the numbers are between 0 and 255, numpy's int16 datatype can be used\n",
    "# secondly, we need to flatten the image array to store it efficiently ad row-major\n",
    "# so for that, we will numpy's use numpy's ravel function with 'copy' flag = False\n",
    "def generateDataForImages():\n",
    "    \n",
    "    noOfRows = 224\n",
    "    noOfCols = 224\n",
    "    \n",
    "    # first all real currency notes' images and then all the fake ones'\n",
    "    # i am skeptical of the consequences :-/\n",
    "    label = 1\n",
    "    inputArray = False\n",
    "    \n",
    "    for directory in ['500 Testing/New Real 4/', '500 Testing/New Fake 4/']:\n",
    "        for filename in os.listdir(directory):\n",
    "            print filename\n",
    "            img = cv2.imread(directory + filename)\n",
    "            img = resize(img)\n",
    "            \n",
    "            # TRANSLATIONS\n",
    "            # will produce (6 + 6 + 1) x (6 + 6 + 1) = 169 images\n",
    "            # stride of 5 pixels along both axis along all 4 directions\n",
    "            for x in range(30, -35, -5):\n",
    "                for y in range(30, -35, -5):\n",
    "                    translationMatrix = np.float32([ [1,0,x], [0,1,y] ])\n",
    "                    imgTrns = cv2.warpAffine(img, translationMatrix, (noOfCols, noOfRows))\n",
    "                    imgTrns = perCentreMean(imgTrns)\n",
    "                    images.append(floatX(imgTrns[np.newaxis]))\n",
    "                    labels.append(np.int32([label]))\n",
    "\n",
    "            # ROTATIONS\n",
    "            # we produce 41 different angles in the range of -10 to 10\n",
    "            # with the step being equal to 0.5\n",
    "            for angle in range(20, -21, -1):\n",
    "                rotationMatrix = cv2.getRotationMatrix2D((noOfCols/2, noOfRows/2), float(angle)/2, 1)\n",
    "                imgRotated = cv2.warpAffine(img, rotationMatrix, (noOfCols, noOfRows))\n",
    "                imgRotated = perCentreMean(imgRotated)\n",
    "                images.append(floatX(imgRotated[np.newaxis]))\n",
    "                labels.append(np.int32([label]))\n",
    "\n",
    "            # PROJECTIVE TRANSFORMATIONS for ZOOMING IN AND ZOOMING OUT\n",
    "            # will produce (30 + 30) images for the dataset\n",
    "            # 1ST ZOOMING IN ...\n",
    "            for step in np.arange(0.001, 0.031, 0.001):\n",
    "                srcPoints = np.float32([[int(step*(noOfCols-1)),int(step*(noOfRows-1))], [int((1-step)*(noOfCols-1)),int(step*(noOfRows-1))], [int(step*(noOfCols-1)),int((1-step)*(noOfRows-1))], [int((1-step)*(noOfCols-1)), int((1-step)*(noOfRows-1))]])\n",
    "                dstPoints = np.float32([[0,0], [noOfCols-1,0], [0,noOfRows-1], [noOfCols-1,noOfRows-1]]) \n",
    "                projective_matrix = cv2.getPerspectiveTransform(srcPoints, dstPoints)\n",
    "                imgZoomed = cv2.warpPerspective(img, projective_matrix, (noOfCols,noOfRows))\n",
    "                imgZoomed = perCentreMean(imgZoomed)\n",
    "                images.append(floatX(imgZoomed[np.newaxis]))\n",
    "                labels.append(np.int32([label]))\n",
    "            # 2ND ZOOMING OUT ...\n",
    "            for step in np.arange(0.001, 0.031, 0.001):\n",
    "                srcPoints = np.float32(np.float32([[0,0], [noOfCols-1,0], [0,noOfRows-1], [noOfCols-1,noOfRows-1]]))\n",
    "                dstPoints = np.float32([[int(step*(noOfCols-1)),int(step*(noOfRows-1))], [int((1-step)*(noOfCols-1)),int(step*(noOfRows-1))], [int(step*(noOfCols-1)),int((1-step)*(noOfRows-1))], [int((1-step)*(noOfCols-1)), int((1-step)*(noOfRows-1))]]) \n",
    "                projective_matrix = cv2.getPerspectiveTransform(srcPoints, dstPoints)\n",
    "                imgZoomed = cv2.warpPerspective(img, projective_matrix, (noOfCols,noOfRows))\n",
    "                imgZoomed = perCentreMean(imgZoomed)\n",
    "                images.append(floatX(imgZoomed[np.newaxis]))\n",
    "                labels.append(np.int32([label]))\n",
    "\n",
    "        # set label for fake images to come\n",
    "        label = 0"
   ]
  },
  {
   "cell_type": "code",
   "execution_count": null,
   "metadata": {
    "collapsed": true
   },
   "outputs": [],
   "source": [
    "generateDataForImages()"
   ]
  },
  {
   "cell_type": "code",
   "execution_count": null,
   "metadata": {
    "collapsed": true
   },
   "outputs": [],
   "source": [
    "file.close()"
   ]
  }
 ],
 "metadata": {
  "kernelspec": {
   "display_name": "Python 2",
   "language": "python",
   "name": "python2"
  },
  "language_info": {
   "codemirror_mode": {
    "name": "ipython",
    "version": 2
   },
   "file_extension": ".py",
   "mimetype": "text/x-python",
   "name": "python",
   "nbconvert_exporter": "python",
   "pygments_lexer": "ipython2",
   "version": "2.7.12"
  }
 },
 "nbformat": 4,
 "nbformat_minor": 1
}
