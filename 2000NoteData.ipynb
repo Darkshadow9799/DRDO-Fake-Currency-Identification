{
 "cells": [
  {
   "cell_type": "code",
   "execution_count": null,
   "metadata": {
    "collapsed": false
   },
   "outputs": [],
   "source": [
    "\"\"\" \n",
    "Author : Hritik Jain\n",
    "Date   : 16/12/2016\n",
    "\n",
    "In this script, I'll produce a Dataset with a few images of Rs.2000 currency note\n",
    "and its fake (photocopied) version.\n",
    "The aim is to teach a CNN to differenciate between a fake and a real currency note, \n",
    "presumably by learning a currency note's security features.\n",
    "_______________________________________________________________________________________\n",
    "\n",
    "For all pre-processing tasks and for generating the dataset, i'll be using the OpenCV library.\n",
    "\"\"\""
   ]
  },
  {
   "cell_type": "code",
   "execution_count": 2,
   "metadata": {
    "collapsed": true
   },
   "outputs": [],
   "source": [
    "import os\n",
    "import cv2\n",
    "import numpy as np"
   ]
  },
  {
   "cell_type": "code",
   "execution_count": 3,
   "metadata": {
    "collapsed": false
   },
   "outputs": [
    {
     "data": {
      "text/plain": [
       "-1"
      ]
     },
     "execution_count": 3,
     "metadata": {},
     "output_type": "execute_result"
    }
   ],
   "source": [
    "# checking out the basic functionality\n",
    "\n",
    "img1 = cv2.imread('Duplicate Notes 2000/Duplicate_1.jpg')\n",
    "img2 = cv2.imread('Real Notes 2000/Real_1.jpg')\n",
    "# converting to HSV-scale\n",
    "img1 = cv2.resize(img1, (224, 224), interpolation = cv2.INTER_AREA)\n",
    "img2 = cv2.resize(img2, (224, 224), interpolation = cv2.INTER_AREA)\n",
    "noOfCols = 224\n",
    "noOfRows = 224\n",
    "\n",
    "cv2.imshow('img2', img1)\n",
    "\n",
    "step = 0.030\n",
    "srcPoints = np.float32([[int(step*(noOfCols-1)),int(step*(noOfRows-1))], [int((1-step)*(noOfCols-1)),int(step*(noOfRows-1))], [int(step*(noOfCols-1)),int((1-step)*(noOfRows-1))], [int((1-step)*(noOfCols-1)), int((1-step)*(noOfRows-1))]])\n",
    "dstPoints = np.float32([[0,0], [noOfCols-1,0], [0,noOfRows-1], [noOfCols-1,noOfRows-1]]) \n",
    "projective_matrix = cv2.getPerspectiveTransform(srcPoints, dstPoints)\n",
    "imgZoomed = cv2.warpPerspective(img1, projective_matrix, (noOfCols,noOfRows))\n",
    "cv2.imwrite('zoomed.jpg', imgZoomed)\n",
    "\n",
    "cv2.imshow('img3', imgZoomed)\n",
    "cv2.waitKey()\n",
    "# similarly, images can be written using the function imwrite and with the same arguments"
   ]
  },
  {
   "cell_type": "code",
   "execution_count": 11,
   "metadata": {
    "collapsed": true
   },
   "outputs": [],
   "source": [
    "# for efficient memory storage :\n",
    "# since the numbers are between 0 and 255, numpy's int16 datatype can be used\n",
    "# secondly, we need to flatten the image array to store it efficiently ad row-major\n",
    "# so for that, we will numpy's use numpy's ravel function with 'copy' flag = False\n",
    "def generateDataForImages():\n",
    "    \"\"\"\n",
    "    In this function, various techniques for augementing image data, such as random rotations\n",
    "    and translations, zooming on images will performed to produce a dataset of size ~1600 images.\n",
    "    RETURN :\n",
    "        a list of 2-tuples where the first element in each tuple is an image's numpy 2-D array \n",
    "        and the second label is the corresponding label, 1 for real note and 0 for fake note\n",
    "    \"\"\"\n",
    "    \n",
    "    # this will be the function used to resize and grayscale the the raw input image\n",
    "    def resizeGrayCenter(img):\n",
    "        img = cv2.cvtColor(img, cv2.COLOR_BGR2GRAY)\n",
    "        img = cv2.resize(img, (600, 300), interpolation = cv2.INTER_AREA)\n",
    "        img = img - img.mean()\n",
    "        return img\n",
    "    \n",
    "    # a list of 2-tuples to hold an image's numpy 2-D array \n",
    "    # and the corresponding label, 1 for real and 0 for fake\n",
    "    trainingData = []\n",
    "    noOfRows = 300\n",
    "    noOfCols = 600\n",
    "    \n",
    "    # first all real currency notes' images and then all the fake ones'\n",
    "    # i am skeptical of the consequences :-/\n",
    "    label = 1\n",
    "    \n",
    "    for directory in ['Real Notes 2000/', 'Duplicate Notes 2000/']:\n",
    "        for filename in os.listdir(directory):\n",
    "            print filename\n",
    "            img = cv2.imread(directory + filename)\n",
    "            img = resizeGrayCenter(img)\n",
    "\n",
    "            # TRANSLATIONS\n",
    "            # will produce (6 + 6 + 1) x (6 + 6 + 1) = 169 images\n",
    "            # stride of 5 pixels along both axis along all 4 directions\n",
    "            for x in range(30, -35, -5):\n",
    "                for y in range(30, -35, -5):\n",
    "                    translationMatrix = np.float32([ [1,0,x], [0,1,y] ])\n",
    "                    imgTrns = cv2.warpAffine(img, translationMatrix, (noOfCols, noOfRows))\n",
    "                    trainingData.append((np.ravel(imgTrns.astype(np.int16, copy = False)), label))\n",
    "\n",
    "\n",
    "            # ROTATIONS\n",
    "            # we produce 41 different angles in the range of -10 to 10\n",
    "            # with the step being equal to 0.5\n",
    "            for angle in range(20, -21, -1):\n",
    "                rotationMatrix = cv2.getRotationMatrix2D((noOfCols/2, noOfRows/2), float(angle)/2, 1)\n",
    "                imgRotated = cv2.warpAffine(img, rotationMatrix, (noOfCols, noOfRows))\n",
    "                imgRotated = perCentreMean(imgRotated)\n",
    "                trainingData.append((np.ravel(imgRotated.astype(np.int16, copy = False)), label))\n",
    "\n",
    "            # PROJECTIVE TRANSFORMATIONS for ZOOMING IN AND ZOOMING OUT\n",
    "            # will produce (30 + 30) images for the dataset\n",
    "            # 1ST ZOOMING IN ...\n",
    "            for step in np.arange(0.001, 0.031, 0.001):\n",
    "                srcPoints = np.float32([[int(step*(noOfCols-1)),int(step*(noOfRows-1))], [int((1-step)*(noOfCols-1)),int(step*(noOfRows-1))], [int(step*(noOfCols-1)),int((1-step)*(noOfRows-1))], [int((1-step)*(noOfCols-1)), int((1-step)*(noOfRows-1))]])\n",
    "                dstPoints = np.float32([[0,0], [noOfCols-1,0], [0,noOfRows-1], [noOfCols-1,noOfRows-1]]) \n",
    "                projective_matrix = cv2.getPerspectiveTransform(srcPoints, dstPoints)\n",
    "                imgZoomed = cv2.warpPerspective(img, projective_matrix, (noOfCols,noOfRows))\n",
    "                trainingData.append((np.ravel(imgZoomed.astype(np.int16, copy = False)), label))\n",
    "            # 2ND ZOOMING OUT ...\n",
    "            for step in np.arange(0.001, 0.031, 0.001):\n",
    "                srcPoints = np.float32(np.float32([[0,0], [noOfCols-1,0], [0,noOfRows-1], [noOfCols-1,noOfRows-1]]))\n",
    "                dstPoints = np.float32([[int(step*(noOfCols-1)),int(step*(noOfRows-1))], [int((1-step)*(noOfCols-1)),int(step*(noOfRows-1))], [int(step*(noOfCols-1)),int((1-step)*(noOfRows-1))], [int((1-step)*(noOfCols-1)), int((1-step)*(noOfRows-1))]]) \n",
    "                projective_matrix = cv2.getPerspectiveTransform(srcPoints, dstPoints)\n",
    "                imgZoomed = cv2.warpPerspective(img, projective_matrix, (noOfCols,noOfRows))\n",
    "                trainingData.append((np.ravel(imgZoomed.astype(np.int16, copy = False)), label))\n",
    "        # set label for fake images to come\n",
    "        label = 0\n",
    "            \n",
    "    return trainingData"
   ]
  },
  {
   "cell_type": "code",
   "execution_count": 7,
   "metadata": {
    "collapsed": false
   },
   "outputs": [
    {
     "name": "stdout",
     "output_type": "stream",
     "text": [
      "Real_2.jpg\n",
      "Real_1.jpg\n",
      "Real_3.jpg\n",
      "Duplicate_1.jpg\n",
      "Duplicate_2.jpg\n",
      "Duplicate_3.jpg\n"
     ]
    },
    {
     "data": {
      "text/plain": [
       "16200"
      ]
     },
     "execution_count": 7,
     "metadata": {},
     "output_type": "execute_result"
    }
   ],
   "source": [
    "imagesAndLabels = generateDataForImages()\n",
    "imagesAndLabels = 10*imagesAndLabels\n",
    "# now shuffle this data so that real and fake images are scattered in the dataset\n",
    "from numpy.random import shuffle\n",
    "shuffle(imagesAndLabels)\n",
    "len(imagesAndLabels)"
   ]
  },
  {
   "cell_type": "code",
   "execution_count": 14,
   "metadata": {
    "collapsed": false
   },
   "outputs": [],
   "source": [
    "# dividing in the ratio of 0.7, 0.2, 0.1 for training, validation and test\n",
    "trainingData = imagesAndLabels[:11340]\n",
    "validationData = imagesAndLabels[11340:14580]\n",
    "testData = imagesAndLabels[14580:]\n",
    "\n",
    "trainingInput = []\n",
    "trainingOutput = []\n",
    "validationInput = []\n",
    "validationOutput = []\n",
    "testInput = []\n",
    "testOutput = []\n",
    "\n",
    "for i in xrange(len(trainingData)):\n",
    "    trainingInput.append(trainingData[i][0])\n",
    "    trainingOutput.append(trainingData[i][1])\n",
    "\n",
    "for i in xrange(len(validationData)):\n",
    "    validationInput.append(validationData[i][0])\n",
    "    validationOutput.append(validationData[i][1])\n",
    "\n",
    "for i in xrange(len(testData)):\n",
    "    testInput.append(testData[i][0])\n",
    "    testOutput.append(testData[i][1])\n",
    "    \n",
    "trainData = (trainingInput, trainingOutput)\n",
    "validationData = (validationInput, validationOutput)\n",
    "testData = (testInput, testOutput)\n",
    "\n",
    "dataset = (trainData, validationData, testData)\n",
    "import cPickle\n",
    "with open('fakeCurrencyDetectionData.pkl','wb') as fp:\n",
    "    cPickle.dump(dataset,fp, protocol = 2)"
   ]
  },
  {
   "cell_type": "code",
   "execution_count": null,
   "metadata": {
    "collapsed": true
   },
   "outputs": [],
   "source": []
  }
 ],
 "metadata": {
  "kernelspec": {
   "display_name": "Python 2",
   "language": "python",
   "name": "python2"
  },
  "language_info": {
   "codemirror_mode": {
    "name": "ipython",
    "version": 2
   },
   "file_extension": ".py",
   "mimetype": "text/x-python",
   "name": "python",
   "nbconvert_exporter": "python",
   "pygments_lexer": "ipython2",
   "version": "2.7.12"
  }
 },
 "nbformat": 4,
 "nbformat_minor": 1
}
